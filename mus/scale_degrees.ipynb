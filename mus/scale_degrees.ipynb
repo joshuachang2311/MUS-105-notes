{
 "cells": [
  {
   "cell_type": "markdown",
   "metadata": {},
   "source": [
    "# ScaleDegrees"
   ]
  },
  {
   "cell_type": "code",
   "execution_count": 1,
   "metadata": {},
   "outputs": [],
   "source": [
    "from enum import Enum, IntEnum, auto\n",
    "\n",
    "class ScaleDegrees (Enum):\n",
    "    # Degree enums, values are the semitonal content of the\n",
    "    # major scale degrees\n",
    "    SD1 = 0\n",
    "    SD2 = 2\n",
    "    SD3 = 4\n",
    "    SD4 = 5\n",
    "    SD5 = 7\n",
    "    SD6 = 9\n",
    "    SD7 = 11\n",
    "\n",
    "    # Inflection enums, values -1 to 1\n",
    "    LOWERED = -1\n",
    "    DIATONIC = 0\n",
    "    RAISED = 1\n",
    "\n",
    "    # ScaleDegree enums, each is a tuple: (degree, inflection)\n",
    "    TONIC = (SD1, DIATONIC)\n",
    "    RAISED_TONIC = (SD1, RAISED)\n",
    "    LOWERED_TONIC = (SD1, LOWERED)\n",
    "\n",
    "    # ...define remaining scale degrees here...  \n",
    "    SUPERTONIC = (SD2, DIATONIC)\n",
    "    LOWERED_SUPERTONIC = (SD2, LOWERED)\n",
    "    RAISED_SUPERTONIC = (SD2, RAISED)\n",
    "    \n",
    "    MEDIANT = (SD3, DIATONIC)\n",
    "    LOWERED_MEDIANT = (SD3, LOWERED)\n",
    "    RAISED_MEDIANT = (SD3, RAISED)\n",
    "    \n",
    "    SUBDOMINANT = (SD4, DIATONIC)\n",
    "    LOWERED_SUBDOMINANT = (SD4, LOWERED)\n",
    "    RAISED_SUBDOMINANT = (SD4, RAISED)\n",
    "    \n",
    "    DOMINANT = (SD5, DIATONIC)\n",
    "    LOWERED_DOMINANT = (SD5, LOWERED)\n",
    "    RAISED_DOMINANT = (SD5, RAISED)\n",
    "    \n",
    "    SUBMEDIANT = (SD6, DIATONIC)\n",
    "    LOWERED_SUBMEDIANT = (SD6, LOWERED)\n",
    "    RAISED_SUBMEDIANT = (SD6, RAISED)\n",
    "    \n",
    "    LEADINGTONE = (SD7, DIATONIC)\n",
    "    LOWERED_LEADINGTONE = (SD7, LOWERED)\n",
    "    RAISED_LEADINGTONE = (SD7, RAISED)"
   ]
  },
  {
   "cell_type": "code",
   "execution_count": 2,
   "metadata": {},
   "outputs": [],
   "source": [
    "def degree(self):\n",
    "    \"\"\"Returns the degree enum for this enum.\n",
    "    Hint: the first tuple value of this enum\n",
    "    will be the value of the degree enum.\"\"\"\n",
    "    \n",
    "    return self.value[0]\n",
    "\n",
    "ScaleDegrees.degree = degree"
   ]
  },
  {
   "cell_type": "code",
   "execution_count": 3,
   "metadata": {},
   "outputs": [],
   "source": [
    "def inflection(self):\n",
    "    \"\"\"Returns the inflection enum for this enum.\n",
    "    Hint: the second tuple value of this enum\n",
    "    will be the value of the inflection enum.\"\"\"\n",
    "\n",
    "    return self.value[1]\n",
    "\n",
    "ScaleDegrees.inflection = inflection"
   ]
  },
  {
   "cell_type": "code",
   "execution_count": 4,
   "metadata": {},
   "outputs": [],
   "source": [
    "def semitones(self):\n",
    "    \"\"\"Returns the number of semitones in this\n",
    "    scale degree.  Hint: Use the values of degrees\n",
    "    and inflectons to determine the semitonal content\"\"\"\n",
    "\n",
    "    return self.degree() + self.inflection()\n",
    "\n",
    "ScaleDegrees.semitones = semitones"
   ]
  }
 ],
 "metadata": {
  "kernelspec": {
   "display_name": "Python 3",
   "language": "python",
   "name": "python3"
  },
  "language_info": {
   "codemirror_mode": {
    "name": "ipython",
    "version": 3
   },
   "file_extension": ".py",
   "mimetype": "text/x-python",
   "name": "python",
   "nbconvert_exporter": "python",
   "pygments_lexer": "ipython3",
   "version": "3.6.8"
  }
 },
 "nbformat": 4,
 "nbformat_minor": 2
}
