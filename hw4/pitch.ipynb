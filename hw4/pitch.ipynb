{
 "cells": [
  {
   "cell_type": "markdown",
   "metadata": {},
   "source": [
    "# `Pitch`\n",
    "#### A class that implements musical pitches.\n",
    "\n",
    "The `Pitch` class represent equal tempered pitches and returns information in hertz, keynum, pitch class, Pnum  and pitch name formats. Pitches can be compared using standard math relations and maintain proper spelling when complemented or transposed by an Interval."
   ]
  },
  {
   "cell_type": "code",
   "execution_count": 1,
   "metadata": {},
   "outputs": [],
   "source": [
    "from enum import IntEnum\n",
    "from math import pow\n",
    "\n",
    "class Pitch:\n",
    "    letters = [chr(ord('C') + i) for i in range(5)] + ['A', 'B']\n",
    "    accidentals = ['bb', 'b', '', '#', '##']\n",
    "    octaves = ['00'] + [str(i) for i in range(10)]\n",
    "    letters_accidentals = ['C', 'C#', 'D', 'Eb', 'E', 'F', 'F#', 'G', 'Ab', 'A', 'Bb', 'B']\n",
    "    \n",
    "    letter_to_pc = {\n",
    "        'C': 0,\n",
    "        'D': 2,\n",
    "        'E': 4,\n",
    "        'F': 5,\n",
    "        'G': 7,\n",
    "        'A': 9,\n",
    "        'B': 11\n",
    "    }\n",
    "    pc_to_letter = {\n",
    "        0: 'C',\n",
    "        2: 'D',\n",
    "        4: 'E',\n",
    "        5: 'F',\n",
    "        7: 'G',\n",
    "        9: 'A',\n",
    "        11: 'B'\n",
    "    }\n",
    "    accidental_to_pc = {accidental: i - 2 for i, accidental in enumerate(accidentals)}"
   ]
  },
  {
   "cell_type": "markdown",
   "metadata": {},
   "source": [
    "## Pitch.pnums\n",
    "A class variable that holds an `IntEnum` of all possible letter-and-accidental combinations Cff up to Bss. Each `pnum` encodes its letter and accidental index as a one byte value 'llllaaaa', where 'llll' is its letter index 0-6, and 'aaaa' is its accidental index 0-4. You should set the pnums variable like this: `pnum = IntEnum('Pnum', [tuple...])` where Pnum is the name of the enum class, `[tuple...]` is a list of tuples, and each tuple is `(enum_name, enum_val)`. The enum names are all possible combinations of pitch letters and accidentals e.g. 'Cff' upto  'Bss'.  Since the accidental character '#' is illegal as a python enum name be sure to use only the 'safe versions' of the accidental names: 'ff' upto 'ss'. The enum values are the one byte integers containing the letter and accidental indexes: `(letter << 4) + accidental`."
   ]
  },
  {
   "cell_type": "code",
   "execution_count": 2,
   "metadata": {},
   "outputs": [],
   "source": [
    "pnums = IntEnum('Pnum', [((letter + accidental), (i << 4) + j) for (i, letter) in enumerate(Pitch.letters) for (j, accidental) in enumerate(['ff', 'f', '', 's', 'ss'])])\n",
    "\n",
    "Pitch.pnums = pnums"
   ]
  },
  {
   "cell_type": "markdown",
   "metadata": {},
   "source": [
    "## `Pitch.__init__`\n",
    "#### Creates a Pitch from a string or list, if neither is provided an empty Pitch is returned.\n",
    " * `Pitch(string)` - creates a Pitch from a pitch name string.\n",
    " * `Pitch([l, a, o])` - creates a Pitch from a three element pitch list containing a letter, accidental and octave index (see below).\n",
    " * `Pitch()` - creates an empty Pitch.\n",
    "\n",
    "```\n",
    " @param ref A pitch name string, a list of three pitch indexes, or None.\n",
    "```\n",
    "\n",
    "The format of a Pitch name string is:\n",
    "```\n",
    "@code\n",
    " <pitch> :=  <letter>, [<accidental>], <octave>\n",
    " <letter> := 'C' | 'D' | 'E' | 'F' | 'G' | 'A' | 'B'\n",
    " <accidental> := <2flat> | <flat> | <natural> | <sharp> | <2sharp>\n",
    " <2flat> := 'bb' | 'ff'\n",
    " <flat> := 'b' | 'f'\n",
    " <natural> := ''\n",
    " <sharp> := '#' | 's'\n",
    " <2sharp> := '##' | 'ss'\n",
    " <octave> := '00' | '0' | '1'  | '2'  | '3'  | '4'  | '5'  | '6'  | '7'  | '8'  | '9'\n",
    "@endcode\n",
    "```\n",
    "\n",
    "The format of a three-element pitch list is:\n",
    "* A letter index 0-6 corresponding to the pitch letter names `['C', 'D', 'E', 'F', 'G', 'A', 'B']`.\n",
    "* An accidental index 0-4 corresponding to symbolic accidental names `['bb', 'b', '', '#', '##']` or 'safe' accidental names `['ff', 'f', '', 's', 'ss']`.\n",
    "* An octave index 0-10 corresponding to the pitch octave names `['00', '0', '1', '2', '3', '4', '5', '6', '7', '8', '9']`.\n",
    "\n",
    "If the argument is not a pitch string, a pitch list, or None the method\n",
    "should raise a TypeError.  If the string or list contains invalid information the\n",
    "method should raise a ValueError.\n",
    "\n",
    "Examples: `Pitch('C4')`, `Pitch('F##2')`, `Pitch('Gs8')`, `Pitch('Bb3')`, `Pitch(\"Df00\")`,\n",
    "`Pitch([0,3,6])`, `Pitch()`"
   ]
  },
  {
   "cell_type": "code",
   "execution_count": 3,
   "metadata": {},
   "outputs": [],
   "source": [
    "def __init__(self, ref=None):\n",
    "    if isinstance(ref, str):\n",
    "        i = 0\n",
    "        \n",
    "        try:\n",
    "            if ref[i].capitalize() in Pitch.letters:\n",
    "                self.letter = ref[i].capitalize()\n",
    "                i += 1\n",
    "            else:\n",
    "                raise ValueError(\"Invalid letter\")\n",
    "        except:\n",
    "            raise ValueError(\"String cannot be empty\")\n",
    "        \n",
    "        try:\n",
    "            if ref[i : i + 2] == 'bb' or ref[i : i + 2] == 'ff':\n",
    "                self.accidental = 'bb'\n",
    "                i += 2\n",
    "            elif ref[i] == 'b' or ref[i] == 'f':\n",
    "                self.accidental = 'b'\n",
    "                i += 1\n",
    "            elif ref[i : i + 2] == '##' or ref[i : i + 2] == 'ss':\n",
    "                self.accidental = '##'\n",
    "                i += 2\n",
    "            elif ref[i] == '#' or ref[i] == 's':\n",
    "                self.accidental = '#'\n",
    "                i += 1\n",
    "            elif ref[i] == 'n':\n",
    "                self.accidental = ''\n",
    "                i += 1\n",
    "            else:\n",
    "                self.accidental = ''\n",
    "        except:\n",
    "            raise ValueError(\"Invalid accidental\")\n",
    "        \n",
    "        try:\n",
    "            if ref[i] >= '0' and ref[i] <= '9':\n",
    "                self.octave = ref[i]\n",
    "                i += 1\n",
    "            else:\n",
    "                raise ValueError(\"Invalid octave\")\n",
    "        except:\n",
    "            raise ValueError(\"Octave cannot be empty\")\n",
    "        \n",
    "        if self.octave == '0':\n",
    "            try:\n",
    "                if ref[i] == '0':\n",
    "                    self.octave += '0'\n",
    "                    i += 1\n",
    "            except:\n",
    "                pass\n",
    "        \n",
    "        if i != len(ref):\n",
    "            raise ValueError(\"Octave should be the end of input\")\n",
    "    elif isinstance(ref, list):\n",
    "        if len(ref) != 3:\n",
    "            raise ValueError(\"Invalid ref length\")\n",
    "        \n",
    "        if isinstance(ref[0], int):\n",
    "            if ref[0] >= 0 and ref[0] < len(Pitch.letters):\n",
    "                self.letter = Pitch.letters[ref[0]]\n",
    "            else:\n",
    "                raise ValueError(\"Invalid letter index\")\n",
    "        else:\n",
    "            raise TypeError(\"Letter index is not int\")\n",
    "        \n",
    "        if isinstance(ref[1], int):\n",
    "            if ref[1] >= 0 and ref[1] < len(Pitch.accidentals):\n",
    "                self.accidental = Pitch.accidentals[ref[1]]\n",
    "            else:\n",
    "                raise ValueError(\"Invalid accidental index\")\n",
    "        else:\n",
    "            raise TypeError(\"Accidental index is not int\")\n",
    "           \n",
    "        if isinstance(ref[2], int):\n",
    "            if ref[2] >= 0 and ref[2] < len(Pitch.octaves):\n",
    "                self.octave = Pitch.octaves[ref[2]]\n",
    "            else:\n",
    "                raise ValueError(\"Invalid octave index\")\n",
    "        else:\n",
    "            raise TypeError(\"Octave index is not int\")\n",
    "    elif ref == None:\n",
    "        self.letter = None\n",
    "        self.accidental = None\n",
    "        self.octave = None\n",
    "    else:\n",
    "        raise TypeError(\"Argument is not string, list, or None\")\n",
    "    \n",
    "    if not self.is_empty():\n",
    "        if self.keynum() < 0 or self.keynum() > 127:\n",
    "            raise ValueError(\"Pitch does not have valid keynum\")\n",
    "\n",
    "Pitch.__init__ = __init__"
   ]
  },
  {
   "cell_type": "markdown",
   "metadata": {},
   "source": [
    "## `Pitch.__str__`\n",
    "#### Returns a string displaying information about the pitch within angle brackets.\n",
    "Information includes the the class name, the pitch text, and the id of the object, for example `'<Pitch: C#7 0x10f263e10>'`. If the pitch is empty the string will show `'<Pitch: empty 0x10f263b50>'`. See also: `string()`."
   ]
  },
  {
   "cell_type": "code",
   "execution_count": 4,
   "metadata": {},
   "outputs": [],
   "source": [
    "def __str__(self):\n",
    "    return f'<Pitch: {self.string()} {hex(id(self))}>'\n",
    "\n",
    "Pitch.__str__ = __str__"
   ]
  },
  {
   "cell_type": "markdown",
   "metadata": {},
   "source": [
    "## `Pitch.__repr__`\n",
    "#### Prints the external form of the Pitch that, if evaluated would create a Pitch with the same content as this pitch.\n",
    "Examples: `'Pitch(\"C#7\")'` and `Pitch()`.  See also `string()`."
   ]
  },
  {
   "cell_type": "code",
   "execution_count": 5,
   "metadata": {},
   "outputs": [],
   "source": [
    "def __repr__(self):\n",
    "    if not self.is_empty():\n",
    "        return f'Pitch(\"{self.string()}\")'\n",
    "    else:\n",
    "        return f'Pitch()'\n",
    "    \n",
    "Pitch.__repr__ = __repr__"
   ]
  },
  {
   "cell_type": "markdown",
   "metadata": {},
   "source": [
    "## `Pitch.__lt__`\n",
    "#### Implements Pitch < Pitch.\n",
    "\n",
    "```\n",
    "@param other The pitch to compare with this pitch.\n",
    "@returns True if this Pitch is less than the other.\n",
    "```\n",
    "\n",
    "This method should call `self.pos()` and `other.pos()` to get the two values to compare. See: `pos()`."
   ]
  },
  {
   "cell_type": "code",
   "execution_count": 6,
   "metadata": {},
   "outputs": [],
   "source": [
    "def __lt__(self, other):\n",
    "    if isinstance(other, Pitch):\n",
    "        try:\n",
    "            return self.pos() < other.pos()\n",
    "        except:\n",
    "            raise ValueError(\"Pitch cannot be empty\")\n",
    "    else:\n",
    "        raise TypeError(\"Other is not pitch\")\n",
    "        \n",
    "Pitch.__lt__ = __lt__"
   ]
  },
  {
   "cell_type": "markdown",
   "metadata": {},
   "source": [
    "## `Pitch.__le__`\n",
    "#### Implements Pitch <= Pitch.\n",
    "\n",
    "```\n",
    "@param other The pitch to compare with this pitch.\n",
    "@returns True if this Pitch is less than or equal to the other.\n",
    "```\n",
    "\n",
    "A TypeError should be raised if other is not a Pitch.\n",
    "This method should call `self.pos()` and `other.pos()` to get the two values to compare. See: `pos()`."
   ]
  },
  {
   "cell_type": "code",
   "execution_count": 7,
   "metadata": {},
   "outputs": [],
   "source": [
    "def __le__(self, other):\n",
    "    if isinstance(other, Pitch):\n",
    "        try:\n",
    "            return self.pos() <= other.pos()\n",
    "        except:\n",
    "            raise ValueError(\"Pitch cannot be empty\")\n",
    "    else:\n",
    "        raise TypeError(\"Other is not pitch\")\n",
    "        \n",
    "Pitch.__le__ = __le__"
   ]
  },
  {
   "cell_type": "markdown",
   "metadata": {},
   "source": [
    "## `Pitch.__eq__`\n",
    "#### Implements Pitch == Pitch.\n",
    "\n",
    "```\n",
    "@param other The pitch to compare with this pitch.\n",
    "@returns True if this Pitch is equal to the other.\n",
    "```\n",
    "\n",
    "A TypeError should be raised if other is not a Pitch.\n",
    "This method should call `self.pos()` and `other.pos()` to get the two values to compare. See: `pos()`."
   ]
  },
  {
   "cell_type": "code",
   "execution_count": 8,
   "metadata": {},
   "outputs": [],
   "source": [
    "def __eq__(self, other):\n",
    "    if isinstance(other, Pitch):\n",
    "        try:\n",
    "            return self.pos() == other.pos()\n",
    "        except:\n",
    "            return False\n",
    "    else:\n",
    "        raise TypeError(\"Other is not pitch\")\n",
    "        \n",
    "Pitch.__eq__ = __eq__"
   ]
  },
  {
   "cell_type": "markdown",
   "metadata": {},
   "source": [
    "## `Pitch.__ne__`\n",
    "#### Implements Pitch != Pitch.\n",
    "\n",
    "```\n",
    "@param other The pitch to compare with this pitch.\n",
    "@returns True if this Pitch is not equal to the other.\n",
    "```\n",
    "\n",
    "A TypeError should be raised if other is not a Pitch.\n",
    "This method should call `self.pos()` and `other.pos()` to get the two values to compare. See: `pos()`."
   ]
  },
  {
   "cell_type": "code",
   "execution_count": 9,
   "metadata": {},
   "outputs": [],
   "source": [
    "def __ne__(self, other):\n",
    "    if isinstance(other, Pitch):\n",
    "        try:\n",
    "            return self.pos() != other.pos()\n",
    "        except:\n",
    "            return True\n",
    "    else:\n",
    "        raise TypeError(\"Other is not pitch\")\n",
    "        \n",
    "Pitch.__ne__ = __ne__"
   ]
  },
  {
   "cell_type": "markdown",
   "metadata": {},
   "source": [
    "## `Pitch.__ge__`\n",
    "#### Implements Pitch >= Pitch.\n",
    "\n",
    "```\n",
    "@param other The pitch to compare with this pitch.\n",
    "@returns True if this Pitch is greater than or equal to the other.\n",
    "```\n",
    "\n",
    "A TypeError should be raised if other is not a Pitch.\n",
    "This method should call `self.pos()` and `other.pos()` to get the two values to compare. See: `pos()`."
   ]
  },
  {
   "cell_type": "code",
   "execution_count": 10,
   "metadata": {},
   "outputs": [],
   "source": [
    "def __ge__(self, other):\n",
    "    if isinstance(other, Pitch):\n",
    "        try:\n",
    "            return self.pos() >= other.pos()\n",
    "        except:\n",
    "            raise ValueError(\"Pitch cannot be empty\")\n",
    "    else:\n",
    "        raise TypeError(\"Other is not pitch\")\n",
    "        \n",
    "Pitch.__ge__ = __ge__"
   ]
  },
  {
   "cell_type": "markdown",
   "metadata": {},
   "source": [
    "## `Pitch.__gt__`\n",
    "#### Implements Pitch > Pitch.\n",
    "\n",
    "```\n",
    "@param other The pitch to compare with this pitch.\n",
    "@returns True if this Pitch is greater than the other.\n",
    "```\n",
    "\n",
    "This method should call `self.pos()` and `other.pos()` to get the two values to compare. See: `pos()`."
   ]
  },
  {
   "cell_type": "code",
   "execution_count": 11,
   "metadata": {},
   "outputs": [],
   "source": [
    "def __gt__(self, other):\n",
    "    if isinstance(other, Pitch):\n",
    "        try:\n",
    "            return self.pos() > other.pos()\n",
    "        except:\n",
    "            raise ValueError(\"Pitch cannot be empty\")\n",
    "    else:\n",
    "        raise TypeError(\"Other is not pitch\")\n",
    "        \n",
    "Pitch.__gt__ = __gt__"
   ]
  },
  {
   "cell_type": "markdown",
   "metadata": {},
   "source": [
    "## `Pitch.pos`\n",
    "#### Returns a unique integer representing this pitch's position in the octave-letter-accidental space.\n",
    "The expression to calculate this value is `(octave<<8) + (letter<<4) + accidental`."
   ]
  },
  {
   "cell_type": "code",
   "execution_count": 12,
   "metadata": {},
   "outputs": [],
   "source": [
    "def pos(self):\n",
    "    if not self.is_empty():\n",
    "        octave = int(self.octave)\n",
    "        \n",
    "        if self.octave != '00':\n",
    "            octave += 1\n",
    "        \n",
    "        return (octave << 8) + (Pitch.letter_to_pc[self.letter] << 4) + Pitch.accidental_to_pc[self.accidental] + 2\n",
    "    else:\n",
    "        raise ValueError(\"Pitch cannot be empty\")\n",
    "        \n",
    "Pitch.pos = pos"
   ]
  },
  {
   "cell_type": "markdown",
   "metadata": {},
   "source": [
    "## `Pitch.is_empty`\n",
    "#### Returns true if the `Pitch` is empty.\n",
    "A pitch is empty if its letter, accidental and octave attributes are `None`. Only one of these attributes needs to be checked because `__init__` will only create a Pitch if all three are legal values or all three are `None`."
   ]
  },
  {
   "cell_type": "code",
   "execution_count": 13,
   "metadata": {},
   "outputs": [],
   "source": [
    "def is_empty(self):\n",
    "    return self.letter == None or self.accidental == None or self.octave == None\n",
    "\n",
    "Pitch.is_empty = is_empty"
   ]
  },
  {
   "cell_type": "markdown",
   "metadata": {},
   "source": [
    "## `Pitch.string`\n",
    "#### Returns a string containing the pitch name including the letter, accidental, and octave. \n",
    "For example, `Pitch(\"C#7\").string()` would return `'C#7'`."
   ]
  },
  {
   "cell_type": "code",
   "execution_count": 14,
   "metadata": {},
   "outputs": [],
   "source": [
    "def string(self):\n",
    "    if not self.is_empty():\n",
    "        return self.letter + self.accidental + self.octave\n",
    "    else:\n",
    "        return 'empty'\n",
    "    \n",
    "Pitch.string = string"
   ]
  },
  {
   "cell_type": "markdown",
   "metadata": {},
   "source": [
    "## `Pitch.keynum`\n",
    "#### Returns the midi key number of the `Pitch`."
   ]
  },
  {
   "cell_type": "code",
   "execution_count": 15,
   "metadata": {},
   "outputs": [],
   "source": [
    "def keynum(self):\n",
    "    if not self.is_empty():\n",
    "        midi = int(self.octave) * 12 + Pitch.letter_to_pc[self.letter] + Pitch.accidental_to_pc[self.accidental]\n",
    "        \n",
    "        if self.octave != '00':\n",
    "            midi += 12\n",
    "        \n",
    "        if midi < 0 or midi > 127:\n",
    "            raise ValueError(\"Keynum is out of range\")\n",
    "        \n",
    "        return midi\n",
    "    else:\n",
    "        raise ValueError(\"Pitch cannot be empty\")\n",
    "        \n",
    "Pitch.keynum = keynum"
   ]
  },
  {
   "cell_type": "markdown",
   "metadata": {},
   "source": [
    "## `Pitch.pnum`\n",
    "#### Returns the pnum (pitch class enum) of the Pitch.\n",
    "`Pnums` enumerate and order the letter and accidental of a `Pitch` so they can be compared, e.g.: `C < C# < Dbb`. See also: `pnums`."
   ]
  },
  {
   "cell_type": "code",
   "execution_count": 16,
   "metadata": {},
   "outputs": [],
   "source": [
    "def pnum(self):\n",
    "    if not self.is_empty():\n",
    "        default_to_safe_accidental = {\n",
    "            'bb': 'ff',\n",
    "            'b': 'f',\n",
    "            '': '',\n",
    "            '#': 's',\n",
    "            '##': 'ss'\n",
    "        }\n",
    "        \n",
    "        return Pitch.pnums[self.letter + default_to_safe_accidental[self.accidental]]\n",
    "    else:\n",
    "        raise ValueError(\"Pitch cannot be empty\")\n",
    "        \n",
    "Pitch.pnum = pnum"
   ]
  },
  {
   "cell_type": "markdown",
   "metadata": {},
   "source": [
    "## `Pitch.pc`\n",
    "#### Returns the pitch class (0-11) of the `Pitch`."
   ]
  },
  {
   "cell_type": "code",
   "execution_count": 17,
   "metadata": {},
   "outputs": [],
   "source": [
    "def pc(self):\n",
    "    if not self.is_empty():\n",
    "        pc = Pitch.letter_to_pc[self.letter] + Pitch.accidental_to_pc[self.accidental]\n",
    "        pc = (pc + 12) % 12\n",
    "        \n",
    "        return pc\n",
    "    else:\n",
    "        raise ValueError(\"Pitch cannot be empty\")\n",
    "        \n",
    "Pitch.pc = pc"
   ]
  },
  {
   "cell_type": "markdown",
   "metadata": {},
   "source": [
    "## `Pitch.hertz`\n",
    "#### Returns the hertz value of the `Pitch`."
   ]
  },
  {
   "cell_type": "code",
   "execution_count": 18,
   "metadata": {},
   "outputs": [],
   "source": [
    "def hertz(self):\n",
    "    if not self.is_empty():\n",
    "        try:\n",
    "            return 440.0 * 2 ** ((self.keynum() - 69) / 12)\n",
    "        except:\n",
    "            raise ValueError(\"Invalid keynum\")\n",
    "    else:\n",
    "        raise ValueError(\"Pitch cannot be empty\")\n",
    "        \n",
    "Pitch.hertz = hertz"
   ]
  },
  {
   "cell_type": "markdown",
   "metadata": {},
   "source": [
    "## `Pitch.from_keynum`\n",
    "#### A `@classmethod` that creates a `Pitch` for the specified midi key number.\n",
    "\n",
    "```\n",
    "@param keynum A valid keynum 0-127.\n",
    "@param accidental  The accidental to use. If no accidental is provided\n",
    "a default is chosen from C C# D Eb F F# G Ab A Bb B\n",
    "@returns a new Pitch with an appropriate spelling.\n",
    "```\n",
    "\n",
    "The function should raise a ValueError if the midi key number\n",
    "is invalid or if the pitch requested does not support the specified\n",
    "accidental."
   ]
  },
  {
   "cell_type": "code",
   "execution_count": 19,
   "metadata": {},
   "outputs": [],
   "source": [
    "def from_keynum(keynum, accidental=None):\n",
    "    if not isinstance(keynum, int):\n",
    "        raise TypeError(\"Keynum is not int\")\n",
    "    elif keynum < 0 or keynum > 127:\n",
    "        raise ValueError(\"Keynum is out of range\")\n",
    "    \n",
    "    if accidental == None:\n",
    "        octave = str(keynum // 12)\n",
    "        \n",
    "        if octave == '0':\n",
    "            octave = '00'\n",
    "        else:\n",
    "            octave = str(int(octave) - 1)\n",
    "            \n",
    "        return Pitch(Pitch.letters_accidentals[keynum % 12] + octave)\n",
    "    elif isinstance(accidental, str):\n",
    "        if accidental == 'bb':\n",
    "            keynum += 2\n",
    "        elif accidental == 'b':\n",
    "            keynum += 1\n",
    "        elif accidental == '#':\n",
    "            keynum -= 1\n",
    "        elif accidental == '##':\n",
    "            keynum -= 2\n",
    "        else:\n",
    "            raise ValueError(\"Invalid accidental\")\n",
    "        \n",
    "        octave = str(keynum // 12)\n",
    "        \n",
    "        if octave == '0':\n",
    "            octave = '00'\n",
    "        else:\n",
    "            octave = str(int(octave) - 1)\n",
    "            \n",
    "        try:\n",
    "            return Pitch(Pitch.pc_to_letter[keynum % 12] + accidental + octave)\n",
    "        except:\n",
    "            raise ValueError(\"Pitch requested does not support the specified accidental\")\n",
    "    else:\n",
    "        raise TypeError(\"Accidental is not string\")\n",
    "        \n",
    "Pitch.from_keynum = from_keynum"
   ]
  }
 ],
 "metadata": {
  "kernelspec": {
   "display_name": "Python 3",
   "language": "python",
   "name": "python3"
  },
  "language_info": {
   "codemirror_mode": {
    "name": "ipython",
    "version": 3
   },
   "file_extension": ".py",
   "mimetype": "text/x-python",
   "name": "python",
   "nbconvert_exporter": "python",
   "pygments_lexer": "ipython3",
   "version": "3.6.8"
  }
 },
 "nbformat": 4,
 "nbformat_minor": 2
}
